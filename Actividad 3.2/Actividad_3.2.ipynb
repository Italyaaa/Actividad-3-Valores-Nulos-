{
 "cells": [
  {
   "cell_type": "code",
   "execution_count": 2,
   "metadata": {},
   "outputs": [],
   "source": [
    "import pandas as pd\n",
    "import numpy as np\n",
    "import matplotlib.pyplot as plt"
   ]
  },
  {
   "cell_type": "code",
   "execution_count": null,
   "metadata": {},
   "outputs": [],
   "source": [
    "df = pd.read_csv('Estocolmo.csv')\n",
    "pd.options.display.max_columns = None\n",
    "df.head(5)"
   ]
  },
  {
   "cell_type": "code",
   "execution_count": null,
   "metadata": {},
   "outputs": [],
   "source": [
    "data = df.drop(['Unnamed: 0'], axis=1) #Si es necesario poner 0 en filas\n",
    "data"
   ]
  },
  {
   "cell_type": "code",
   "execution_count": null,
   "metadata": {},
   "outputs": [],
   "source": [
    "valores_nulos=data.isnull().sum()\n",
    "valores_nulos\n",
    "#Hay 20 columnas del archivo con valores núlos"
   ]
  },
  {
   "cell_type": "code",
   "execution_count": null,
   "metadata": {},
   "outputs": [],
   "source": [
    "#contar los valores nulos\n",
    "def cuenta_valores_nulos(data):\n",
    "    #Valores nulos por columna\n",
    "    valores_nulos_cols = data.isnull().sum()\n",
    "    #Valores nulos por dataframe\n",
    "    valores_nulos_df = data.isnull().sum().sum()\n",
    "\n",
    "    return ('Valores nulos por columna' , valores_nulos_cols,\n",
    "            'Valores nnulos por dataframe', valores_nulos_df)\n",
    "cuenta_valores_nulos(data)"
   ]
  },
  {
   "cell_type": "code",
   "execution_count": null,
   "metadata": {},
   "outputs": [],
   "source": [
    "# A. Reemplazar valores nulos con el método de \"mediana\" en las columnas tipo \"numeric(int y float)\"\n",
    "def sustitución_mediana(data):\n",
    "     #Separo columnas cuantitativas del dataframe\n",
    "    cuantitativas_con_nulos = data.select_dtypes(include=['float', 'int'])\n",
    "    #Separo columnas cualitativas del dataframe\n",
    "    cualitativas = data.select_dtypes(include=['object', 'datetime', 'category'])\n",
    "    #Sustituir valores nulos con pormedio o media\n",
    "    cuantitativas = cuantitativas_con_nulos.fillna(round(cuantitativas_con_nulos.median(),1))\n",
    "    #Unimos el dataframe cuantitativo limpio con el dataframe cualitativo\n",
    "    Datos_sin_nulos = pd.concat([cuantitativas,cualitativas], axis=1)\n",
    "\n",
    "    return(Datos_sin_nulos)\n",
    "\n",
    "sustitución_mediana(data)"
   ]
  },
  {
   "cell_type": "code",
   "execution_count": 8,
   "metadata": {},
   "outputs": [],
   "source": [
    "dataframe_sin_nulos= sustitución_mediana(data)"
   ]
  },
  {
   "cell_type": "code",
   "execution_count": null,
   "metadata": {},
   "outputs": [],
   "source": [
    "cuenta_valores_nulos(dataframe_sin_nulos)"
   ]
  },
  {
   "cell_type": "code",
   "execution_count": 10,
   "metadata": {},
   "outputs": [],
   "source": [
    "#CSV A\n",
    "dataframe_sin_nulos.to_csv(\"A.CSV\")"
   ]
  },
  {
   "cell_type": "code",
   "execution_count": null,
   "metadata": {},
   "outputs": [],
   "source": [
    "# B. Reemplazar valores nulos con el método de \"ffill\" en las columnas tipo \"object\", \"datetime\" y \"category\"\n",
    "def sustitución_ffill(data):\n",
    "   #Separo columnas cuantitativas del dataframe\n",
    "    cuantitativas = data.select_dtypes(include=['float', 'int64', 'float', 'int'])\n",
    "    #Separo columnas cualitativas del dataframe\n",
    "    cualitativas_sin_nulos = data.select_dtypes(include=[\"object\", \"datetime\", \"category\"])\n",
    "    #Sustituir valores nulos con pormedio o media\n",
    "    cualitativas = cualitativas_sin_nulos.fillna(method='ffill')\n",
    "    #Unimos el dataframe cuantitativo limpio con el dataframe cualitativo\n",
    "    Datos_sin_nulos = pd.concat([cuantitativas,cualitativas], axis=1)\n",
    "\n",
    "    return(Datos_sin_nulos)\n",
    "\n",
    "sustitución_ffill(data)"
   ]
  },
  {
   "cell_type": "code",
   "execution_count": 41,
   "metadata": {},
   "outputs": [
    {
     "name": "stderr",
     "output_type": "stream",
     "text": [
      "C:\\Users\\italy\\AppData\\Local\\Temp\\ipykernel_38924\\375926670.py:8: FutureWarning: DataFrame.fillna with 'method' is deprecated and will raise in a future version. Use obj.ffill() or obj.bfill() instead.\n",
      "  cualitativas = cualitativas.fillna(method='ffill')\n"
     ]
    }
   ],
   "source": [
    "data_ffill = sustitución_ffill(data)"
   ]
  },
  {
   "cell_type": "code",
   "execution_count": null,
   "metadata": {},
   "outputs": [],
   "source": [
    "cuenta_valores_nulos(data_ffill)"
   ]
  },
  {
   "cell_type": "code",
   "execution_count": 71,
   "metadata": {},
   "outputs": [],
   "source": [
    "#CSV B\n",
    "data_ffill.to_csv(\"B.CSV\")"
   ]
  },
  {
   "cell_type": "code",
   "execution_count": null,
   "metadata": {},
   "outputs": [],
   "source": [
    "# C. Reemplazar valores nulos con el método de “bfill” en las columnas tipo “object, datetime y category”\n",
    "\n",
    "def sustitución_bfill(data):\n",
    "   #Separo columnas cuantitativas del dataframe\n",
    "    cuantitativas = data.select_dtypes(include=['float', 'int64', 'float', 'int'])\n",
    "    #Separo columnas cualitativas del dataframe\n",
    "    cualitativas_sin_nulos = data.select_dtypes(include=[\"object\", \"datetime\", \"category\"])\n",
    "    #Sustituir valores nulos con pormedio o media\n",
    "    cualitativas = cualitativas_sin_nulos.fillna(method='bfill')\n",
    "    #Unimos el dataframe cuantitativo limpio con el dataframe cualitativo\n",
    "    Datos_sin_nulos = pd.concat([cuantitativas,cualitativas], axis=1)\n",
    "\n",
    "    return(Datos_sin_nulos)\n",
    "\n",
    "sustitución_bfill(data)"
   ]
  },
  {
   "cell_type": "code",
   "execution_count": null,
   "metadata": {},
   "outputs": [],
   "source": [
    "data_bfill = sustitución_ffill(data)"
   ]
  },
  {
   "cell_type": "code",
   "execution_count": null,
   "metadata": {},
   "outputs": [],
   "source": [
    "cuenta_valores_nulos(data_ffill)"
   ]
  },
  {
   "cell_type": "code",
   "execution_count": 69,
   "metadata": {},
   "outputs": [],
   "source": [
    "#CSV C\n",
    "data_ffill.to_csv(\"C.CSV\")"
   ]
  },
  {
   "cell_type": "code",
   "execution_count": null,
   "metadata": {},
   "outputs": [],
   "source": [
    "data.info()"
   ]
  },
  {
   "cell_type": "code",
   "execution_count": null,
   "metadata": {},
   "outputs": [],
   "source": [
    "# D. Reemplazar valores nulos con el método de “string concreto” en las columnas tipo “object, datetime y category”\n",
    "\n",
    "def sustitución_string_concreto(data):\n",
    "   #Separo columnas cuantitativas del dataframe\n",
    "    cuantitativas = data.select_dtypes(include=['float', 'int64', 'float', 'int'])\n",
    "    #Separo columnas cualitativas del dataframe\n",
    "    cualitativas_sin_nulos = data.select_dtypes(include=[\"object\", \"datetime\", \"category\"])\n",
    "    #Sustituir valores nulos con pormedio o media\n",
    "    cualitativas = cualitativas_sin_nulos.fillna('No info')\n",
    "    #Unimos el dataframe cuantitativo limpio con el dataframe cualitativo\n",
    "    Datos_sin_nulos = pd.concat([cuantitativas,cualitativas], axis=1)\n",
    "\n",
    "    return(Datos_sin_nulos)\n",
    "\n",
    "sustitución_string_concreto(data)"
   ]
  },
  {
   "cell_type": "code",
   "execution_count": 73,
   "metadata": {},
   "outputs": [],
   "source": [
    "data_string_concreto = sustitución_string_concreto(data)"
   ]
  },
  {
   "cell_type": "code",
   "execution_count": null,
   "metadata": {},
   "outputs": [],
   "source": [
    "sustitución_string_concreto(data).head(50)"
   ]
  },
  {
   "cell_type": "code",
   "execution_count": 74,
   "metadata": {},
   "outputs": [],
   "source": [
    "#CSV D\n",
    "data_string_concreto.to_csv(\"D.CSV\")"
   ]
  },
  {
   "cell_type": "code",
   "execution_count": null,
   "metadata": {},
   "outputs": [],
   "source": [
    "# E. Reemplazar valores nulos con el método de “constante” en las columnas tipo “numeric (int y float)”\n",
    "\n",
    "def sustitución_constante(data):\n",
    "   #Separo columnas cuantitativas del dataframe\n",
    "    cuantitativas_sin_nulos = data.select_dtypes(include=['float', 'int64', 'float', 'int'])\n",
    "    #Separo columnas cualitativas del dataframe\n",
    "    cualitativas = data.select_dtypes(include=[\"object\", \"datetime\", \"category\"])\n",
    "    #Sustituir valores nulos con pormedio o media\n",
    "    cuantitativas = cuantitativas_sin_nulos.fillna(10)\n",
    "    #Unimos el dataframe cuantitativo limpio con el dataframe cualitativo\n",
    "    Datos_sin_nulos = pd.concat([cuantitativas,cualitativas], axis=1)\n",
    "\n",
    "    return(Datos_sin_nulos)\n",
    "\n",
    "sustitución_constante(data)"
   ]
  },
  {
   "cell_type": "code",
   "execution_count": 76,
   "metadata": {},
   "outputs": [],
   "source": [
    "data_constante = sustitución_constante(data)"
   ]
  },
  {
   "cell_type": "code",
   "execution_count": 77,
   "metadata": {},
   "outputs": [],
   "source": [
    "#CSV E\n",
    "data_constante.to_csv(\"E.CSV\")"
   ]
  }
 ],
 "metadata": {
  "kernelspec": {
   "display_name": "Python 3",
   "language": "python",
   "name": "python3"
  },
  "language_info": {
   "codemirror_mode": {
    "name": "ipython",
    "version": 3
   },
   "file_extension": ".py",
   "mimetype": "text/x-python",
   "name": "python",
   "nbconvert_exporter": "python",
   "pygments_lexer": "ipython3",
   "version": "3.13.2"
  }
 },
 "nbformat": 4,
 "nbformat_minor": 2
}
